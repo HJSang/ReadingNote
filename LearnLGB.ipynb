{
  "nbformat": 4,
  "nbformat_minor": 0,
  "metadata": {
    "colab": {
      "name": "LearnLGB.ipynb",
      "version": "0.3.2",
      "provenance": [],
      "include_colab_link": true
    },
    "kernelspec": {
      "name": "python3",
      "display_name": "Python 3"
    }
  },
  "cells": [
    {
      "cell_type": "markdown",
      "metadata": {
        "id": "view-in-github",
        "colab_type": "text"
      },
      "source": [
        "<a href=\"https://colab.research.google.com/github/HJSang/ReadingNote/blob/master/LearnLGB.ipynb\" target=\"_parent\"><img src=\"https://colab.research.google.com/assets/colab-badge.svg\" alt=\"Open In Colab\"/></a>"
      ]
    },
    {
      "metadata": {
        "id": "wSN0RsDWqGib",
        "colab_type": "text"
      },
      "cell_type": "markdown",
      "source": [
        "## [LightGBM](https://lightgbm.readthedocs.io/en/latest/index.html)\n",
        "* This colab is used to learn implementation and case study for LGB\n",
        "* Support GPU"
      ]
    },
    {
      "metadata": {
        "id": "BgecTTtkqfmj",
        "colab_type": "code",
        "colab": {}
      },
      "cell_type": "code",
      "source": [
        "# imports\n",
        "import numpy as np # linear algebra\n",
        "import pandas as pd # data processing, CSV file I/O (e.g. pd.read_csv)\n",
        "import lightgbm as lgb\n",
        "from sklearn.metrics import mean_squared_error\n",
        "from sklearn.metrics import roc_auc_score\n",
        "from sklearn.model_selection import StratifiedKFold # Cross validation"
      ],
      "execution_count": 0,
      "outputs": []
    },
    {
      "metadata": {
        "id": "wwjujeymq4mW",
        "colab_type": "text"
      },
      "cell_type": "markdown",
      "source": [
        "### Load data\n",
        "The LightGBM Python module can load data from:\n",
        "* libsvm/tsv/csv/txt format file\n",
        "* NumPy 2D array(s), pandas DataFrame, H2O DataTable’s Frame, SciPy sparse matrix\n",
        "* LightGBM binary file"
      ]
    },
    {
      "metadata": {
        "id": "ryCmcn33q78A",
        "colab_type": "code",
        "colab": {}
      },
      "cell_type": "code",
      "source": [
        "# Saving Dataset into a LightGBM binary file will make loading faster\n",
        "train_data = lgb.Dataset('train.svm.txt')\n",
        "# load data from binary file\n",
        "train_data = lgb.Dataset('train.svm.bin')\n",
        "# load data from numpy\n",
        "data = np.random.rand(500,10)\n",
        "label = np.random.randint(2, size = 500)\n",
        "train_data = lgb.Dataset(data, label)"
      ],
      "execution_count": 0,
      "outputs": []
    },
    {
      "metadata": {
        "id": "A38xqmNYsvj5",
        "colab_type": "code",
        "colab": {}
      },
      "cell_type": "code",
      "source": [
        "# create validation data\n",
        "validation_data = train_data.create_valid('validation.svm')\n",
        "# or\n",
        "validation_data = lgb.Dataset('validation.svm', reference=train_data)"
      ],
      "execution_count": 0,
      "outputs": []
    },
    {
      "metadata": {
        "id": "ag5MH1KRtHKX",
        "colab_type": "code",
        "colab": {}
      },
      "cell_type": "code",
      "source": [
        "# Specify feature names and categorical features\n",
        "train_data = lgb.Dataset(data, label = label, feature_name=['c1','c2','c3'], categorical_feature=['c3'])\n",
        "validation_data = train_data.create_valid('validation.svm')\n"
      ],
      "execution_count": 0,
      "outputs": []
    },
    {
      "metadata": {
        "id": "2vPFNGGQtZtT",
        "colab_type": "code",
        "colab": {}
      },
      "cell_type": "code",
      "source": [
        "# Setting parameters\n",
        "# use a list of pairs or a dictionary \n",
        "param = {'num_leaves':31,'num_trees':100, 'objective':'binary'}\n",
        "param['metric'] = 'auc'\n",
        "# specify multiple eval metrics\n",
        "param['metric'] = ['auc','binary_loss']"
      ],
      "execution_count": 0,
      "outputs": []
    },
    {
      "metadata": {
        "id": "Tz5GYnm2t9nS",
        "colab_type": "code",
        "colab": {}
      },
      "cell_type": "code",
      "source": [
        "# # training\n",
        "# num_round = 10\n",
        "# bst = lgb.train(param, train_data, num_round, valid_sets=[validation_data])\n",
        "# # after training, the model can be saved \n",
        "# bst.save_model('model.txt')\n",
        "# a saved model can be loaded\n",
        "# bst = lgb.Booster(model_file='model.txt')\n",
        "# CV\n",
        "# lgb.cv(param, train_data, num_round, nfold =5)\n",
        "# ypred = bst.predict(data)"
      ],
      "execution_count": 0,
      "outputs": []
    }
  ]
}